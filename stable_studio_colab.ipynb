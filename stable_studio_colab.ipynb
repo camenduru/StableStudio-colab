{
    "nbformat": 4,
    "nbformat_minor": 0,
    "metadata": {
      "colab": {
        "provenance": []
      },
      "kernelspec": {
        "name": "python3",
        "display_name": "Python 3"
      },
      "language_info": {
        "name": "python"
      }
    },
    "cells": [
        {
          "cell_type": "markdown",
          "metadata": {
            "id": "view-in-github"
          },
          "source": [
            "[![Open In Colab](https://colab.research.google.com/assets/colab-badge.svg)](https://colab.research.google.com/github/camenduru/StableStudio-colab/blob/main/stable_studio_colab.ipynb)"
          ]
        },
      {
        "cell_type": "code",
        "execution_count": null,
        "metadata": {
          "id": "p8fYSxBW4VSW"
        },
        "outputs": [],
        "source": [
          "%cd /content\n",
          "!npm install --global yarn\n",
          "!git clone https://github.com/camenduru/StableStudio\n",
          "%cd /content/StableStudio\n",
          "\n",
          "!wget https://github.com/cloudflare/cloudflared/releases/latest/download/cloudflared-linux-amd64 -O /content/cloudflared-linux-amd64 && chmod 777 /content/cloudflared-linux-amd64\n",
          "import atexit, requests, subprocess, time, re, os\n",
          "from random import randint\n",
          "from threading import Timer\n",
          "from queue import Queue\n",
          "def cloudflared(port, metrics_port, output_queue):\n",
          "    atexit.register(lambda p: p.terminate(), subprocess.Popen(['/content/cloudflared-linux-amd64', 'tunnel', '--url', f'http://127.0.0.1:{port}', '--metrics', f'127.0.0.1:{metrics_port}'], stdout=subprocess.DEVNULL, stderr=subprocess.STDOUT))\n",
          "    attempts, tunnel_url = 0, None\n",
          "    while attempts < 10 and not tunnel_url:\n",
          "        attempts += 1\n",
          "        time.sleep(3)\n",
          "        try:\n",
          "            tunnel_url = re.search(\"(?P<url>https?:\\/\\/[^\\s]+.trycloudflare.com)\", requests.get(f'http://127.0.0.1:{metrics_port}/metrics').text).group(\"url\")\n",
          "        except:\n",
          "            pass\n",
          "    if not tunnel_url:\n",
          "        raise Exception(\"Can't connect to Cloudflare Edge\")\n",
          "    output_queue.put(tunnel_url)\n",
          "output_queue, metrics_port = Queue(), randint(8100, 9000)\n",
          "thread = Timer(2, cloudflared, args=(3000, metrics_port, output_queue))\n",
          "thread.start()\n",
          "thread.join()\n",
          "tunnel_url = output_queue.get()\n",
          "os.environ['webui_url'] = tunnel_url\n",
          "print(tunnel_url)\n",
          "\n",
          "!yarn\n",
          "!yarn dev"
        ]
      }
    ]
  }